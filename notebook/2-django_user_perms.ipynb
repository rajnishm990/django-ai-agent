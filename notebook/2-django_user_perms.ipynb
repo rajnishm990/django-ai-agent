{
 "cells": [
  {
   "cell_type": "code",
   "execution_count": 1,
   "id": "97a5f78a",
   "metadata": {},
   "outputs": [],
   "source": [
    "import setup\n",
    "setup.init()"
   ]
  },
  {
   "cell_type": "code",
   "execution_count": 3,
   "id": "d992d689",
   "metadata": {},
   "outputs": [
    {
     "name": "stdout",
     "output_type": "stream",
     "text": [
      "<QuerySet [<User: rajnishm990>]>\n"
     ]
    }
   ],
   "source": [
    "from django.contrib.auth import get_user_model\n",
    "\n",
    "User = get_user_model()\n",
    "print(User.objects.all())"
   ]
  },
  {
   "cell_type": "code",
   "execution_count": 13,
   "id": "0daf498f",
   "metadata": {},
   "outputs": [
    {
     "name": "stdout",
     "output_type": "stream",
     "text": [
      "<QuerySet [<User: rajnishm990>]>\n"
     ]
    }
   ],
   "source": [
    "print(User.objects.all())\n"
   ]
  },
  {
   "cell_type": "code",
   "execution_count": null,
   "id": "64736cdb",
   "metadata": {},
   "outputs": [
    {
     "data": {
      "text/plain": [
       "<User: demo_user>"
      ]
     },
     "execution_count": 14,
     "metadata": {},
     "output_type": "execute_result"
    }
   ],
   "source": [
    "User.objects.create(\n",
    "    username='demo_user'\n",
    ")\n",
    "\n",
    "##this is a direct way of creating a user . We could ahve also used the class User and saved the object later something like\n",
    "## user_obj = User(username='username')\n",
    "## user_obj.save()   , both will essentially do the same thing . "
   ]
  },
  {
   "cell_type": "code",
   "execution_count": null,
   "id": "2c7da771",
   "metadata": {},
   "outputs": [],
   "source": [
    "user_obj = User.objects.get(username='demo_user')\n",
    "\n"
   ]
  },
  {
   "cell_type": "code",
   "execution_count": 16,
   "id": "8ee55b05",
   "metadata": {},
   "outputs": [
    {
     "data": {
      "text/plain": [
       "<Document: Demo_Doc_2>"
      ]
     },
     "execution_count": 16,
     "metadata": {},
     "output_type": "execute_result"
    }
   ],
   "source": [
    "from documents.models import Document\n",
    "\n",
    "doc_obj = Document(owner = user_obj, title = \"Demo_Doc_2\")\n",
    "\n",
    "doc_obj\n",
    "\n"
   ]
  },
  {
   "cell_type": "code",
   "execution_count": 17,
   "id": "30b8f2f0",
   "metadata": {},
   "outputs": [],
   "source": [
    "doc_obj.save()"
   ]
  },
  {
   "cell_type": "code",
   "execution_count": null,
   "id": "c5e17f4b",
   "metadata": {},
   "outputs": [],
   "source": [
    "\n",
    "\n",
    "user_obj = User.objects.create(username='Clark_Kent')  #make a new user "
   ]
  },
  {
   "cell_type": "code",
   "execution_count": null,
   "id": "61c35268",
   "metadata": {},
   "outputs": [],
   "source": [
    "user_obj = User.objects.get(\n",
    "    username=\"Clark_Kent\"   #get the same user\n",
    ")"
   ]
  },
  {
   "cell_type": "code",
   "execution_count": null,
   "id": "19ca0798",
   "metadata": {},
   "outputs": [],
   "source": [
    "user_obj.is_staff = True  #make it staff"
   ]
  },
  {
   "cell_type": "code",
   "execution_count": null,
   "id": "51a1c7ce",
   "metadata": {},
   "outputs": [],
   "source": [
    "user_obj.save()  #save  to cmmit the changes"
   ]
  },
  {
   "cell_type": "code",
   "execution_count": null,
   "id": "c489b4ce",
   "metadata": {},
   "outputs": [],
   "source": [
    "user_obj.set_password(\"abcd12345\")   #set password "
   ]
  },
  {
   "cell_type": "code",
   "execution_count": null,
   "id": "9298fd58",
   "metadata": {},
   "outputs": [],
   "source": [
    "user_obj.save()   #save the changes "
   ]
  },
  {
   "cell_type": "code",
   "execution_count": null,
   "id": "eb685419",
   "metadata": {},
   "outputs": [],
   "source": []
  }
 ],
 "metadata": {
  "kernelspec": {
   "display_name": ".venv",
   "language": "python",
   "name": "python3"
  },
  "language_info": {
   "codemirror_mode": {
    "name": "ipython",
    "version": 3
   },
   "file_extension": ".py",
   "mimetype": "text/x-python",
   "name": "python",
   "nbconvert_exporter": "python",
   "pygments_lexer": "ipython3",
   "version": "3.13.1"
  }
 },
 "nbformat": 4,
 "nbformat_minor": 5
}
