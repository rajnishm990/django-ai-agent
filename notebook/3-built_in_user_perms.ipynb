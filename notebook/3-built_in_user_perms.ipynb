{
 "cells": [
  {
   "cell_type": "code",
   "execution_count": 2,
   "id": "586cf2cb",
   "metadata": {},
   "outputs": [],
   "source": [
    "import setup\n",
    "setup.init()"
   ]
  },
  {
   "cell_type": "code",
   "execution_count": 7,
   "id": "34e6f80b",
   "metadata": {},
   "outputs": [
    {
     "name": "stdout",
     "output_type": "stream",
     "text": [
      "<QuerySet [{'email': 'rajnishm990@gmail.com'}, {'email': ''}, {'email': ''}]>\n"
     ]
    }
   ],
   "source": [
    "from django.contrib.auth import get_user_model\n",
    "\n",
    "user = get_user_model()\n",
    "print(user.objects.values('email'))"
   ]
  },
  {
   "cell_type": "code",
   "execution_count": 9,
   "id": "ee927af6",
   "metadata": {},
   "outputs": [
    {
     "name": "stdout",
     "output_type": "stream",
     "text": [
      "rajnishm990\n"
     ]
    }
   ],
   "source": [
    "super_user = user.objects.filter(is_superuser=True).first()\n",
    "print(super_user)"
   ]
  },
  {
   "cell_type": "code",
   "execution_count": 10,
   "id": "65811b97",
   "metadata": {},
   "outputs": [
    {
     "data": {
      "text/plain": [
       "<QuerySet []>"
      ]
     },
     "execution_count": 10,
     "metadata": {},
     "output_type": "execute_result"
    }
   ],
   "source": [
    "staff_user = user.objects.filter(is_superuser= False , is_staff = True).first()\n",
    "staff_user.user_permissions.all()"
   ]
  },
  {
   "cell_type": "code",
   "execution_count": null,
   "id": "ae6f86ab",
   "metadata": {},
   "outputs": [
    {
     "name": "stdout",
     "output_type": "stream",
     "text": [
      "view_logentry\n",
      "view_group\n",
      "view_permission\n",
      "view_user\n",
      "view_contenttype\n",
      "view_document\n",
      "view_session\n"
     ]
    }
   ],
   "source": [
    "##one way to set permission . Other way to do is to simply just do staff_user.user_permissions.set(perm_qs)\n",
    "\n",
    "from django.contrib.auth.models import Permission\n",
    "perm_qs = Permission.objects.filter(codename__icontains = 'VIEW')\n",
    "for perms in perm_qs:\n",
    "    print(perms.codename)\n",
    "    staff_user.user_permissions.add(perms)"
   ]
  },
  {
   "cell_type": "code",
   "execution_count": 16,
   "id": "111ee2c9",
   "metadata": {},
   "outputs": [
    {
     "data": {
      "text/plain": [
       "<QuerySet [<Permission: Administration | log entry | Can view log entry>, <Permission: Authentication and Authorization | group | Can view group>, <Permission: Authentication and Authorization | permission | Can view permission>, <Permission: Authentication and Authorization | user | Can view user>, <Permission: Content Types | content type | Can view content type>, <Permission: Documents | document | Can view document>, <Permission: Sessions | session | Can view session>]>"
      ]
     },
     "execution_count": 16,
     "metadata": {},
     "output_type": "execute_result"
    }
   ],
   "source": [
    "staff_user.user_permissions.all()"
   ]
  },
  {
   "cell_type": "code",
   "execution_count": null,
   "id": "2076569e",
   "metadata": {},
   "outputs": [],
   "source": []
  }
 ],
 "metadata": {
  "kernelspec": {
   "display_name": ".venv",
   "language": "python",
   "name": "python3"
  },
  "language_info": {
   "codemirror_mode": {
    "name": "ipython",
    "version": 3
   },
   "file_extension": ".py",
   "mimetype": "text/x-python",
   "name": "python",
   "nbconvert_exporter": "python",
   "pygments_lexer": "ipython3",
   "version": "3.13.1"
  }
 },
 "nbformat": 4,
 "nbformat_minor": 5
}
