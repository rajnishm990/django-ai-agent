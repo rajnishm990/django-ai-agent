{
 "cells": [
  {
   "cell_type": "code",
   "execution_count": 2,
   "id": "336cf762",
   "metadata": {},
   "outputs": [],
   "source": [
    "import setup\n",
    "setup.init()"
   ]
  },
  {
   "cell_type": "code",
   "execution_count": 3,
   "id": "0487e64c",
   "metadata": {},
   "outputs": [],
   "source": [
    "from ai.tools import create_document \n",
    "from ai.agents import get_document_agent"
   ]
  },
  {
   "cell_type": "code",
   "execution_count": 4,
   "id": "f14e87a5",
   "metadata": {},
   "outputs": [],
   "source": [
    "from langgraph.checkpoint.memory import InMemorySaver"
   ]
  },
  {
   "cell_type": "code",
   "execution_count": 10,
   "id": "bf0260fd",
   "metadata": {},
   "outputs": [],
   "source": [
    "import uuid\n",
    "config = {\"configurable\": {\"user_id\": 1 , \"thread_id\": uuid.uuid4()}}\n",
    "checkpointer = InMemorySaver()\n",
    "agent = get_document_agent(model='mistralai/Mixtral-8x7B-Instruct-v0.1',checkpointer=checkpointer)"
   ]
  },
  {
   "cell_type": "code",
   "execution_count": 13,
   "id": "394a83d9",
   "metadata": {},
   "outputs": [
    {
     "data": {
      "text/plain": [
       "' I apologize if my previous response seemed repetitive. Here\\'s a summary of the movie \"Mission Impossible\" for your convenience:\\n\\n\"Mission Impossible\" is a 1996 American action spy film directed by Brian De Palma. It is the first installment in the Mission: Impossible film series. The film stars Tom Cruise as Ethan Hunt, an agent of the Impossible Missions Force (IMF).\\n\\nThe plot revolves around Ethan being framed for the murders of his entire team during a mission to retrieve the non-official cover (NOC) list. If exposed, this operation would result in the exposure and death of IMF agents worldwide. With a team of disavowed agents, Ethan must track down and stop the real traitor, Sean Ambrose, while also trying to clear his name.\\n\\nThe film is recognized for its iconic theme music, stunts, and action sequences, including a memorable scene where Tom Cruise\\'s character dangles from the ceiling of a secure room in CIA headquarters.'"
      ]
     },
     "execution_count": 13,
     "metadata": {},
     "output_type": "execute_result"
    }
   ],
   "source": [
    "response = agent.invoke(\n",
    "    {\n",
    "        \"messages\": [\n",
    "            {\"role\": \"user\",\"content\": \"Give me a summary of the movie mission impossible\"}\n",
    "        ]\n",
    "    },\n",
    "    config \n",
    ")\n",
    "response['messages'][-1].content"
   ]
  },
  {
   "cell_type": "code",
   "execution_count": 14,
   "id": "657f5a0c",
   "metadata": {},
   "outputs": [
    {
     "data": {
      "text/plain": [
       "' As I mentioned earlier, I\\'m a text-based AI and cannot directly interact with the app or save files. However, I can guide you on how to save this summary as a document using the functions you\\'ve provided:\\n\\n1. To create a new document with this summary, you can use the `create_document` function like this:\\n\\n   ```\\n   create_document(\\n     title: \"Mission Impossible - Summary\",\\n     content: \"Mission Impossible is a 1996 American action spy film directed by Brian De Palma. It is the first installment in the Mission: Impossible film series. The film stars Tom Cruise as Ethan Hunt, an agent of the Impossible Missions Force (IMF). The plot revolves around Ethan being framed for the murders of his entire team during a mission to retrieve the non-official cover (NOC) list. If exposed, this operation would result in the exposure and death of IMF agents worldwide. With a team of disavowed agents, Ethan must track down and stop the real traitor, Sean Ambrose, while also trying to clear his name. The film is recognized for its iconic theme music, stunts, and action sequences, including a memorable scene where Tom Cruise\\'s character dangles from the ceiling of a secure room in CIA headquarters.\"\\n   )\\n   ```\\n\\n2. After creating the document, it will be stored in your account. You can then use the `list_documents` function to see the 5 most recent documents, which should include the one you just created.\\n\\n3. If you want to view the details of the document you just created, you can use the `get_document` function, providing the document_id of the newly created document.\\n\\nPlease remember that the actual implementation might be different depending on the specifics of the app.'"
      ]
     },
     "execution_count": 14,
     "metadata": {},
     "output_type": "execute_result"
    }
   ],
   "source": [
    "response = agent.invoke(\n",
    "    {\n",
    "        \"messages\": [\n",
    "            {\"role\": \"user\",\"content\": \"Great , Now save it to my documents\"}\n",
    "        ]\n",
    "    },\n",
    "    config \n",
    ")\n",
    "response['messages'][-1].content"
   ]
  },
  {
   "cell_type": "code",
   "execution_count": null,
   "id": "8db06275",
   "metadata": {},
   "outputs": [],
   "source": []
  }
 ],
 "metadata": {
  "kernelspec": {
   "display_name": ".venv",
   "language": "python",
   "name": "python3"
  },
  "language_info": {
   "codemirror_mode": {
    "name": "ipython",
    "version": 3
   },
   "file_extension": ".py",
   "mimetype": "text/x-python",
   "name": "python",
   "nbconvert_exporter": "python",
   "pygments_lexer": "ipython3",
   "version": "3.13.1"
  }
 },
 "nbformat": 4,
 "nbformat_minor": 5
}
