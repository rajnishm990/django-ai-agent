{
 "cells": [
  {
   "cell_type": "code",
   "execution_count": 1,
   "id": "716bec80",
   "metadata": {},
   "outputs": [],
   "source": [
    "import setup\n",
    "setup.init()"
   ]
  },
  {
   "cell_type": "code",
   "execution_count": 2,
   "id": "8535730c",
   "metadata": {},
   "outputs": [],
   "source": [
    "from ai.agents import get_document_agent"
   ]
  },
  {
   "cell_type": "code",
   "execution_count": 3,
   "id": "21803473",
   "metadata": {},
   "outputs": [],
   "source": [
    "from langgraph.checkpoint.memory import InMemorySaver  #there are also other memory savers like redis etc "
   ]
  },
  {
   "cell_type": "code",
   "execution_count": 4,
   "id": "380a3d2b",
   "metadata": {},
   "outputs": [],
   "source": [
    "checkpointer = InMemorySaver()\n",
    "agent = get_document_agent(model='mistralai/Mixtral-8x7B-Instruct-v0.1',checkpointer=checkpointer)"
   ]
  },
  {
   "cell_type": "code",
   "execution_count": 5,
   "id": "03e2aa87",
   "metadata": {},
   "outputs": [
    {
     "data": {
      "text/plain": [
       "' Here are your recent documents:\\n\\n1. Document\\\\_Important (ID: 7)\\n2. troll (ID: 5)\\n3. Dummy Doc 1 (ID: 2)\\n\\nPlease let me know if you would like to open, delete, or perform any other actions on any of these documents.'"
      ]
     },
     "execution_count": 5,
     "metadata": {},
     "output_type": "execute_result"
    }
   ],
   "source": [
    "import uuid\n",
    "config= {\"configurable\": {\"user_id\": 1, \"thread_id\": uuid.uuid4()}}\n",
    "\n",
    "response = agent.invoke({\n",
    "    'messages':\n",
    "    [\n",
    "        {'role': 'user', 'content': 'what are my recent document'}\n",
    "    ]\n",
    "},config)\n",
    "\n",
    "response['messages'][-1].content"
   ]
  },
  {
   "cell_type": "code",
   "execution_count": 12,
   "id": "71da17d3",
   "metadata": {},
   "outputs": [
    {
     "name": "stdout",
     "output_type": "stream",
     "text": [
      " To check for any duplicate documents, I would need to list all the documents for the current user and then check if there are any documents with the same name or content. Here's how I can do it:\n",
      "\n",
      "1. Use the `list_documents` function to retrieve the 5 most recent documents for the current user.\n",
      "2. Check if there are less than 5 documents. If so, there is no need to check for duplicates.\n",
      "3. If there are 5 or more documents, I will iterate through the list and check if any two documents have the same name or content.\n",
      "4. If I find any two documents with the same name or content, I will return a message indicating that there is a duplicate.\n",
      "\n",
      "To implement this, I would need to use the `list_documents` function and possibly the `get_document` function if I need to check the content of the documents.\n",
      "\n",
      "Here's an example of how I can implement this in code:\n",
      "\n",
      "```python\n",
      "def check\\_for\\_duplicates():\n",
      "documents = list\\_documents()\n",
      "if len(documents) < 5:\n",
      "return \"No duplicates found.\"\n",
      "\n",
      "for i in range(len(documents)):\n",
      "for j in range(i+1, len(documents)):\n",
      "if documents[i].name == documents[j].name or documents[i].content == documents[j].content:\n",
      "return \"Duplicate documents found.\"\n",
      "\n",
      "return \"No duplicates found.\"\n",
      "```\n",
      "\n",
      "Note: The above code assumes that the `list_documents` function returns a list of document objects with `name` and `content` attributes. If the actual implementation is different, the code may need to be modified accordingly.\n"
     ]
    }
   ],
   "source": [
    "import uuid\n",
    "config= {\"configurable\": {\"user_id\": 1, \"thread_id\": uuid.uuid4()}}\n",
    "\n",
    "response = agent.invoke({\n",
    "    'messages':\n",
    "    [\n",
    "        {'role': 'user', 'content': 'are there any duplicates '}\n",
    "    ]\n",
    "},config)\n",
    "\n",
    "print(response['messages'][-1].content)"
   ]
  },
  {
   "cell_type": "code",
   "execution_count": null,
   "id": "5ffdd6d6",
   "metadata": {},
   "outputs": [],
   "source": []
  }
 ],
 "metadata": {
  "kernelspec": {
   "display_name": ".venv",
   "language": "python",
   "name": "python3"
  },
  "language_info": {
   "codemirror_mode": {
    "name": "ipython",
    "version": 3
   },
   "file_extension": ".py",
   "mimetype": "text/x-python",
   "name": "python",
   "nbconvert_exporter": "python",
   "pygments_lexer": "ipython3",
   "version": "3.13.1"
  }
 },
 "nbformat": 4,
 "nbformat_minor": 5
}
