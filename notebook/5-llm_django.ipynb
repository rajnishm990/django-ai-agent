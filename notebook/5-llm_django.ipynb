{
 "cells": [
  {
   "cell_type": "code",
   "execution_count": 1,
   "id": "01404266",
   "metadata": {},
   "outputs": [],
   "source": [
    "import setup\n",
    "setup.init()"
   ]
  },
  {
   "cell_type": "code",
   "execution_count": 2,
   "id": "77e82ccd",
   "metadata": {},
   "outputs": [],
   "source": [
    "from ai.llms import get_openai_key , get_openAIModel"
   ]
  },
  {
   "cell_type": "code",
   "execution_count": 3,
   "id": "3fc27467",
   "metadata": {},
   "outputs": [],
   "source": [
    "model = get_openAIModel()"
   ]
  },
  {
   "cell_type": "code",
   "execution_count": 4,
   "id": "0664c1e6",
   "metadata": {},
   "outputs": [
    {
     "name": "stdout",
     "output_type": "stream",
     "text": [
      "client=<openai.resources.chat.completions.completions.Completions object at 0x000002BD9AAD0980> async_client=<openai.resources.chat.completions.completions.AsyncCompletions object at 0x000002BD9AAD1400> root_client=<openai.OpenAI object at 0x000002BD9A6B5A90> root_async_client=<openai.AsyncOpenAI object at 0x000002BD9AAD1160> model_name='mistralai/Mixtral-8x7B-Instruct-v0.1' temperature=0.0 model_kwargs={} openai_api_key=SecretStr('**********') openai_api_base='https://api.together.xyz/v1' max_tokens=1024\n"
     ]
    }
   ],
   "source": [
    "print(model)"
   ]
  },
  {
   "cell_type": "code",
   "execution_count": 5,
   "id": "807debcb",
   "metadata": {},
   "outputs": [
    {
     "data": {
      "text/plain": [
       "AIMessage(content=' I am a large language model trained by Mistral AI, a leading AI company based in Paris. I am designed to generate human-like text based on the input I receive. I do not have personal experiences or emotions, but I can provide information, answer questions, and engage in conversation to the best of my ability.', additional_kwargs={'refusal': None}, response_metadata={'token_usage': {'completion_tokens': 66, 'prompt_tokens': 12, 'total_tokens': 78, 'completion_tokens_details': None, 'prompt_tokens_details': None}, 'model_name': 'mistralai/Mixtral-8x7B-Instruct-v0.1', 'system_fingerprint': None, 'id': 'nyKPJC7-2kFHot-95083c6c090228cd', 'service_tier': None, 'finish_reason': 'stop', 'logprobs': None}, id='run--ba136386-1656-4c82-bf0d-ce3f53dec628-0', usage_metadata={'input_tokens': 12, 'output_tokens': 66, 'total_tokens': 78, 'input_token_details': {}, 'output_token_details': {}})"
      ]
     },
     "execution_count": 5,
     "metadata": {},
     "output_type": "execute_result"
    }
   ],
   "source": [
    "model.invoke(\"who are you ?\")"
   ]
  },
  {
   "cell_type": "code",
   "execution_count": null,
   "id": "86ee35c7",
   "metadata": {},
   "outputs": [],
   "source": []
  }
 ],
 "metadata": {
  "kernelspec": {
   "display_name": ".venv",
   "language": "python",
   "name": "python3"
  },
  "language_info": {
   "codemirror_mode": {
    "name": "ipython",
    "version": 3
   },
   "file_extension": ".py",
   "mimetype": "text/x-python",
   "name": "python",
   "nbconvert_exporter": "python",
   "pygments_lexer": "ipython3",
   "version": "3.13.1"
  }
 },
 "nbformat": 4,
 "nbformat_minor": 5
}
