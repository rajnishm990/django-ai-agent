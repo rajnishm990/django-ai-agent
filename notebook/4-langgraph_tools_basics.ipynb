{
 "cells": [
  {
   "cell_type": "code",
   "execution_count": 4,
   "id": "798045bf",
   "metadata": {},
   "outputs": [],
   "source": [
    "import setup\n",
    "setup.init()"
   ]
  },
  {
   "cell_type": "code",
   "execution_count": 5,
   "id": "c1fd577b",
   "metadata": {},
   "outputs": [],
   "source": [
    "from ai.tools import get_document , list_documents"
   ]
  },
  {
   "cell_type": "code",
   "execution_count": 5,
   "id": "23c749d4",
   "metadata": {},
   "outputs": [
    {
     "data": {
      "text/plain": [
       "[{'id': 2, 'title': 'Dummy Doc 1'}, {'id': 3, 'title': 'Demo_Doc_2'}]"
      ]
     },
     "execution_count": 5,
     "metadata": {},
     "output_type": "execute_result"
    }
   ],
   "source": [
    "list_documents.invoke(None)  #tool requires it to invoke and needs one input , since we don't have any we just pass None"
   ]
  },
  {
   "cell_type": "code",
   "execution_count": null,
   "id": "6458d796",
   "metadata": {},
   "outputs": [
    {
     "data": {
      "text/plain": [
       "{'id': 2, 'title': 'Dummy Doc 1', 'content': 'lorem ipsum dolor'}"
      ]
     },
     "execution_count": 9,
     "metadata": {},
     "output_type": "execute_result"
    }
   ],
   "source": [
    "get_document.invoke({\"document_id\":2})   #tool required dictionary and not simple argument like docuemnt_id=2"
   ]
  },
  {
   "cell_type": "code",
   "execution_count": 9,
   "id": "b4669f0b",
   "metadata": {},
   "outputs": [],
   "source": [
    "config ={\n",
    "    'user_id': 1  #user_id passed as config\n",
    "}"
   ]
  },
  {
   "cell_type": "code",
   "execution_count": 6,
   "id": "bec0a1b6",
   "metadata": {},
   "outputs": [
    {
     "data": {
      "text/plain": [
       "[{'id': 2, 'title': 'Dummy Doc 1'}]"
      ]
     },
     "execution_count": 6,
     "metadata": {},
     "output_type": "execute_result"
    }
   ],
   "source": [
    "list_documents.invoke(None,config)"
   ]
  },
  {
   "cell_type": "code",
   "execution_count": null,
   "id": "063d2caf",
   "metadata": {},
   "outputs": [
    {
     "ename": "AttributeError",
     "evalue": "'dict' object has no attribute 'parent_run_id'",
     "output_type": "error",
     "traceback": [
      "\u001b[31m---------------------------------------------------------------------------\u001b[39m",
      "\u001b[31mAttributeError\u001b[39m                            Traceback (most recent call last)",
      "\u001b[36mCell\u001b[39m\u001b[36m \u001b[39m\u001b[32mIn[19]\u001b[39m\u001b[32m, line 1\u001b[39m\n\u001b[32m----> \u001b[39m\u001b[32m1\u001b[39m \u001b[43mget_document\u001b[49m\u001b[43m(\u001b[49m\u001b[43m{\u001b[49m\u001b[33;43m\"\u001b[39;49m\u001b[33;43mdocument_id\u001b[39;49m\u001b[33;43m\"\u001b[39;49m\u001b[43m:\u001b[49m\u001b[32;43m2\u001b[39;49m\u001b[43m}\u001b[49m\u001b[43m,\u001b[49m\u001b[43m \u001b[49m\u001b[43mconfig\u001b[49m\u001b[43m)\u001b[49m\n",
      "\u001b[36mFile \u001b[39m\u001b[32mc:\\Users\\rajni\\OneDrive\\Desktop\\django-ai-agent\\.venv\\Lib\\site-packages\\langchain_core\\_api\\deprecation.py:191\u001b[39m, in \u001b[36mdeprecated.<locals>.deprecate.<locals>.warning_emitting_wrapper\u001b[39m\u001b[34m(*args, **kwargs)\u001b[39m\n\u001b[32m    189\u001b[39m     warned = \u001b[38;5;28;01mTrue\u001b[39;00m\n\u001b[32m    190\u001b[39m     emit_warning()\n\u001b[32m--> \u001b[39m\u001b[32m191\u001b[39m \u001b[38;5;28;01mreturn\u001b[39;00m \u001b[43mwrapped\u001b[49m\u001b[43m(\u001b[49m\u001b[43m*\u001b[49m\u001b[43margs\u001b[49m\u001b[43m,\u001b[49m\u001b[43m \u001b[49m\u001b[43m*\u001b[49m\u001b[43m*\u001b[49m\u001b[43mkwargs\u001b[49m\u001b[43m)\u001b[49m\n",
      "\u001b[36mFile \u001b[39m\u001b[32mc:\\Users\\rajni\\OneDrive\\Desktop\\django-ai-agent\\.venv\\Lib\\site-packages\\langchain_core\\tools\\base.py:893\u001b[39m, in \u001b[36mBaseTool.__call__\u001b[39m\u001b[34m(self, tool_input, callbacks)\u001b[39m\n\u001b[32m    890\u001b[39m \u001b[38;5;129m@deprecated\u001b[39m(\u001b[33m\"\u001b[39m\u001b[33m0.1.47\u001b[39m\u001b[33m\"\u001b[39m, alternative=\u001b[33m\"\u001b[39m\u001b[33minvoke\u001b[39m\u001b[33m\"\u001b[39m, removal=\u001b[33m\"\u001b[39m\u001b[33m1.0\u001b[39m\u001b[33m\"\u001b[39m)\n\u001b[32m    891\u001b[39m \u001b[38;5;28;01mdef\u001b[39;00m\u001b[38;5;250m \u001b[39m\u001b[34m__call__\u001b[39m(\u001b[38;5;28mself\u001b[39m, tool_input: \u001b[38;5;28mstr\u001b[39m, callbacks: Callbacks = \u001b[38;5;28;01mNone\u001b[39;00m) -> \u001b[38;5;28mstr\u001b[39m:\n\u001b[32m    892\u001b[39m \u001b[38;5;250m    \u001b[39m\u001b[33;03m\"\"\"Make tool callable.\"\"\"\u001b[39;00m\n\u001b[32m--> \u001b[39m\u001b[32m893\u001b[39m     \u001b[38;5;28;01mreturn\u001b[39;00m \u001b[38;5;28;43mself\u001b[39;49m\u001b[43m.\u001b[49m\u001b[43mrun\u001b[49m\u001b[43m(\u001b[49m\u001b[43mtool_input\u001b[49m\u001b[43m,\u001b[49m\u001b[43m \u001b[49m\u001b[43mcallbacks\u001b[49m\u001b[43m=\u001b[49m\u001b[43mcallbacks\u001b[49m\u001b[43m)\u001b[49m\n",
      "\u001b[36mFile \u001b[39m\u001b[32mc:\\Users\\rajni\\OneDrive\\Desktop\\django-ai-agent\\.venv\\Lib\\site-packages\\langchain_core\\tools\\base.py:702\u001b[39m, in \u001b[36mBaseTool.run\u001b[39m\u001b[34m(self, tool_input, verbose, start_color, color, callbacks, tags, metadata, run_name, run_id, config, tool_call_id, **kwargs)\u001b[39m\n\u001b[32m    664\u001b[39m \u001b[38;5;28;01mdef\u001b[39;00m\u001b[38;5;250m \u001b[39m\u001b[34mrun\u001b[39m(\n\u001b[32m    665\u001b[39m     \u001b[38;5;28mself\u001b[39m,\n\u001b[32m    666\u001b[39m     tool_input: Union[\u001b[38;5;28mstr\u001b[39m, \u001b[38;5;28mdict\u001b[39m[\u001b[38;5;28mstr\u001b[39m, Any]],\n\u001b[32m   (...)\u001b[39m\u001b[32m    678\u001b[39m     **kwargs: Any,\n\u001b[32m    679\u001b[39m ) -> Any:\n\u001b[32m    680\u001b[39m \u001b[38;5;250m    \u001b[39m\u001b[33;03m\"\"\"Run the tool.\u001b[39;00m\n\u001b[32m    681\u001b[39m \n\u001b[32m    682\u001b[39m \u001b[33;03m    Args:\u001b[39;00m\n\u001b[32m   (...)\u001b[39m\u001b[32m    700\u001b[39m \u001b[33;03m        ToolException: If an error occurs during tool execution.\u001b[39;00m\n\u001b[32m    701\u001b[39m \u001b[33;03m    \"\"\"\u001b[39;00m\n\u001b[32m--> \u001b[39m\u001b[32m702\u001b[39m     callback_manager = \u001b[43mCallbackManager\u001b[49m\u001b[43m.\u001b[49m\u001b[43mconfigure\u001b[49m\u001b[43m(\u001b[49m\n\u001b[32m    703\u001b[39m \u001b[43m        \u001b[49m\u001b[43mcallbacks\u001b[49m\u001b[43m,\u001b[49m\n\u001b[32m    704\u001b[39m \u001b[43m        \u001b[49m\u001b[38;5;28;43mself\u001b[39;49m\u001b[43m.\u001b[49m\u001b[43mcallbacks\u001b[49m\u001b[43m,\u001b[49m\n\u001b[32m    705\u001b[39m \u001b[43m        \u001b[49m\u001b[38;5;28;43mself\u001b[39;49m\u001b[43m.\u001b[49m\u001b[43mverbose\u001b[49m\u001b[43m \u001b[49m\u001b[38;5;129;43;01mor\u001b[39;49;00m\u001b[43m \u001b[49m\u001b[38;5;28;43mbool\u001b[39;49m\u001b[43m(\u001b[49m\u001b[43mverbose\u001b[49m\u001b[43m)\u001b[49m\u001b[43m,\u001b[49m\n\u001b[32m    706\u001b[39m \u001b[43m        \u001b[49m\u001b[43mtags\u001b[49m\u001b[43m,\u001b[49m\n\u001b[32m    707\u001b[39m \u001b[43m        \u001b[49m\u001b[38;5;28;43mself\u001b[39;49m\u001b[43m.\u001b[49m\u001b[43mtags\u001b[49m\u001b[43m,\u001b[49m\n\u001b[32m    708\u001b[39m \u001b[43m        \u001b[49m\u001b[43mmetadata\u001b[49m\u001b[43m,\u001b[49m\n\u001b[32m    709\u001b[39m \u001b[43m        \u001b[49m\u001b[38;5;28;43mself\u001b[39;49m\u001b[43m.\u001b[49m\u001b[43mmetadata\u001b[49m\u001b[43m,\u001b[49m\n\u001b[32m    710\u001b[39m \u001b[43m    \u001b[49m\u001b[43m)\u001b[49m\n\u001b[32m    712\u001b[39m     run_manager = callback_manager.on_tool_start(\n\u001b[32m    713\u001b[39m         {\u001b[33m\"\u001b[39m\u001b[33mname\u001b[39m\u001b[33m\"\u001b[39m: \u001b[38;5;28mself\u001b[39m.name, \u001b[33m\"\u001b[39m\u001b[33mdescription\u001b[39m\u001b[33m\"\u001b[39m: \u001b[38;5;28mself\u001b[39m.description},\n\u001b[32m    714\u001b[39m         tool_input \u001b[38;5;28;01mif\u001b[39;00m \u001b[38;5;28misinstance\u001b[39m(tool_input, \u001b[38;5;28mstr\u001b[39m) \u001b[38;5;28;01melse\u001b[39;00m \u001b[38;5;28mstr\u001b[39m(tool_input),\n\u001b[32m   (...)\u001b[39m\u001b[32m    723\u001b[39m         **kwargs,\n\u001b[32m    724\u001b[39m     )\n\u001b[32m    726\u001b[39m     content = \u001b[38;5;28;01mNone\u001b[39;00m\n",
      "\u001b[36mFile \u001b[39m\u001b[32mc:\\Users\\rajni\\OneDrive\\Desktop\\django-ai-agent\\.venv\\Lib\\site-packages\\langchain_core\\callbacks\\manager.py:1625\u001b[39m, in \u001b[36mCallbackManager.configure\u001b[39m\u001b[34m(cls, inheritable_callbacks, local_callbacks, verbose, inheritable_tags, local_tags, inheritable_metadata, local_metadata)\u001b[39m\n\u001b[32m   1594\u001b[39m \u001b[38;5;129m@classmethod\u001b[39m\n\u001b[32m   1595\u001b[39m \u001b[38;5;28;01mdef\u001b[39;00m\u001b[38;5;250m \u001b[39m\u001b[34mconfigure\u001b[39m(\n\u001b[32m   1596\u001b[39m     \u001b[38;5;28mcls\u001b[39m,\n\u001b[32m   (...)\u001b[39m\u001b[32m   1603\u001b[39m     local_metadata: Optional[\u001b[38;5;28mdict\u001b[39m[\u001b[38;5;28mstr\u001b[39m, Any]] = \u001b[38;5;28;01mNone\u001b[39;00m,\n\u001b[32m   1604\u001b[39m ) -> CallbackManager:\n\u001b[32m   1605\u001b[39m \u001b[38;5;250m    \u001b[39m\u001b[33;03m\"\"\"Configure the callback manager.\u001b[39;00m\n\u001b[32m   1606\u001b[39m \n\u001b[32m   1607\u001b[39m \u001b[33;03m    Args:\u001b[39;00m\n\u001b[32m   (...)\u001b[39m\u001b[32m   1623\u001b[39m \u001b[33;03m        CallbackManager: The configured callback manager.\u001b[39;00m\n\u001b[32m   1624\u001b[39m \u001b[33;03m    \"\"\"\u001b[39;00m\n\u001b[32m-> \u001b[39m\u001b[32m1625\u001b[39m     \u001b[38;5;28;01mreturn\u001b[39;00m \u001b[43m_configure\u001b[49m\u001b[43m(\u001b[49m\n\u001b[32m   1626\u001b[39m \u001b[43m        \u001b[49m\u001b[38;5;28;43mcls\u001b[39;49m\u001b[43m,\u001b[49m\n\u001b[32m   1627\u001b[39m \u001b[43m        \u001b[49m\u001b[43minheritable_callbacks\u001b[49m\u001b[43m,\u001b[49m\n\u001b[32m   1628\u001b[39m \u001b[43m        \u001b[49m\u001b[43mlocal_callbacks\u001b[49m\u001b[43m,\u001b[49m\n\u001b[32m   1629\u001b[39m \u001b[43m        \u001b[49m\u001b[43minheritable_tags\u001b[49m\u001b[43m,\u001b[49m\n\u001b[32m   1630\u001b[39m \u001b[43m        \u001b[49m\u001b[43mlocal_tags\u001b[49m\u001b[43m,\u001b[49m\n\u001b[32m   1631\u001b[39m \u001b[43m        \u001b[49m\u001b[43minheritable_metadata\u001b[49m\u001b[43m,\u001b[49m\n\u001b[32m   1632\u001b[39m \u001b[43m        \u001b[49m\u001b[43mlocal_metadata\u001b[49m\u001b[43m,\u001b[49m\n\u001b[32m   1633\u001b[39m \u001b[43m        \u001b[49m\u001b[43mverbose\u001b[49m\u001b[43m=\u001b[49m\u001b[43mverbose\u001b[49m\u001b[43m,\u001b[49m\n\u001b[32m   1634\u001b[39m \u001b[43m    \u001b[49m\u001b[43m)\u001b[49m\n",
      "\u001b[36mFile \u001b[39m\u001b[32mc:\\Users\\rajni\\OneDrive\\Desktop\\django-ai-agent\\.venv\\Lib\\site-packages\\langchain_core\\callbacks\\manager.py:2355\u001b[39m, in \u001b[36m_configure\u001b[39m\u001b[34m(callback_manager_cls, inheritable_callbacks, local_callbacks, inheritable_tags, local_tags, inheritable_metadata, local_metadata, verbose)\u001b[39m\n\u001b[32m   2349\u001b[39m     callback_manager = callback_manager_cls(\n\u001b[32m   2350\u001b[39m         handlers=inheritable_callbacks_.copy(),\n\u001b[32m   2351\u001b[39m         inheritable_handlers=inheritable_callbacks_.copy(),\n\u001b[32m   2352\u001b[39m         parent_run_id=parent_run_id,\n\u001b[32m   2353\u001b[39m     )\n\u001b[32m   2354\u001b[39m \u001b[38;5;28;01melse\u001b[39;00m:\n\u001b[32m-> \u001b[39m\u001b[32m2355\u001b[39m     parent_run_id_ = \u001b[43minheritable_callbacks\u001b[49m\u001b[43m.\u001b[49m\u001b[43mparent_run_id\u001b[49m\n\u001b[32m   2356\u001b[39m     \u001b[38;5;66;03m# Break ties between the external tracing context and inherited context\u001b[39;00m\n\u001b[32m   2357\u001b[39m     \u001b[38;5;28;01mif\u001b[39;00m parent_run_id \u001b[38;5;129;01mis\u001b[39;00m \u001b[38;5;129;01mnot\u001b[39;00m \u001b[38;5;28;01mNone\u001b[39;00m \u001b[38;5;129;01mand\u001b[39;00m (\n\u001b[32m   2358\u001b[39m         parent_run_id_ \u001b[38;5;129;01mis\u001b[39;00m \u001b[38;5;28;01mNone\u001b[39;00m\n\u001b[32m   2359\u001b[39m         \u001b[38;5;66;03m# If the LC parent has already been reflected\u001b[39;00m\n\u001b[32m   (...)\u001b[39m\u001b[32m   2362\u001b[39m         \u001b[38;5;129;01mor\u001b[39;00m (run_tree \u001b[38;5;129;01mand\u001b[39;00m \u001b[38;5;28mstr\u001b[39m(parent_run_id_) \u001b[38;5;129;01min\u001b[39;00m run_tree.dotted_order)\n\u001b[32m   2363\u001b[39m     ):\n",
      "\u001b[31mAttributeError\u001b[39m: 'dict' object has no attribute 'parent_run_id'"
     ]
    }
   ],
   "source": [
    "get_document({\"document_id\": 2}, config)"
   ]
  },
  {
   "cell_type": "code",
   "execution_count": null,
   "id": "02cfa5f4",
   "metadata": {},
   "outputs": [],
   "source": []
  }
 ],
 "metadata": {
  "kernelspec": {
   "display_name": ".venv",
   "language": "python",
   "name": "python3"
  },
  "language_info": {
   "codemirror_mode": {
    "name": "ipython",
    "version": 3
   },
   "file_extension": ".py",
   "mimetype": "text/x-python",
   "name": "python",
   "nbconvert_exporter": "python",
   "pygments_lexer": "ipython3",
   "version": "3.13.1"
  }
 },
 "nbformat": 4,
 "nbformat_minor": 5
}
