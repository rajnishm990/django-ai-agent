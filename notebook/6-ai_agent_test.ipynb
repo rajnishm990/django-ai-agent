{
 "cells": [
  {
   "cell_type": "code",
   "execution_count": 1,
   "id": "b740eb44",
   "metadata": {},
   "outputs": [],
   "source": [
    "import setup\n",
    "setup.init()"
   ]
  },
  {
   "cell_type": "code",
   "execution_count": 2,
   "id": "379e1742",
   "metadata": {},
   "outputs": [],
   "source": [
    "from ai.agents import get_document_agent"
   ]
  },
  {
   "cell_type": "code",
   "execution_count": 3,
   "id": "f2dca87f",
   "metadata": {},
   "outputs": [],
   "source": [
    "agent=get_document_agent()\n"
   ]
  },
  {
   "cell_type": "code",
   "execution_count": 15,
   "id": "3c008ecd",
   "metadata": {},
   "outputs": [],
   "source": [
    "import uuid\n",
    "config= {\"configurable\": {\"user_id\": 1, \"thread_id\": uuid.uuid4()}}\n",
    "\n",
    "response = agent.invoke({\n",
    "    'messages':\n",
    "    [\n",
    "        {'role': 'user', 'content': 'what are my recent document'}\n",
    "    ]\n",
    "},config)"
   ]
  },
  {
   "cell_type": "code",
   "execution_count": 16,
   "id": "e88eb96a",
   "metadata": {},
   "outputs": [
    {
     "name": "stdout",
     "output_type": "stream",
     "text": [
      "what are my recent document\n",
      "\n",
      "[{\"id\": 7, \"title\": \"Document_Important\"}, {\"id\": 5, \"title\": \"troll\"}, {\"id\": 2, \"title\": \"Dummy Doc 1\"}]\n",
      " Here are your recent documents:\n",
      "\n",
      "1. Document\\_Important (ID: 7)\n",
      "2. troll (ID: 5)\n",
      "3. Dummy Doc 1 (ID: 2)\n",
      "\n",
      "Please let me know if you would like to open, delete, or perform any other actions on any of these documents.\n"
     ]
    }
   ],
   "source": [
    "for msg in response['messages']:\n",
    "    print(msg.content)"
   ]
  },
  {
   "cell_type": "code",
   "execution_count": null,
   "id": "3d55c77f",
   "metadata": {},
   "outputs": [],
   "source": []
  }
 ],
 "metadata": {
  "kernelspec": {
   "display_name": ".venv",
   "language": "python",
   "name": "python3"
  },
  "language_info": {
   "codemirror_mode": {
    "name": "ipython",
    "version": 3
   },
   "file_extension": ".py",
   "mimetype": "text/x-python",
   "name": "python",
   "nbconvert_exporter": "python",
   "pygments_lexer": "ipython3",
   "version": "3.13.1"
  }
 },
 "nbformat": 4,
 "nbformat_minor": 5
}
